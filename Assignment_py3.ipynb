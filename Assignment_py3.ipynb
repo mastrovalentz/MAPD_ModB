{
 "cells": [
  {
   "cell_type": "markdown",
   "metadata": {},
   "source": [
    "## Ex2"
   ]
  },
  {
   "cell_type": "code",
   "execution_count": 1,
   "metadata": {},
   "outputs": [],
   "source": []
  },
  {
   "cell_type": "markdown",
   "metadata": {},
   "source": [
    "### 2.1 \n",
    "Is this symmetric or asymmetric encryption and explain why?"
   ]
  },
  {
   "cell_type": "markdown",
   "metadata": {},
   "source": [
    "### 2.2\n",
    "Write a small brute force program which tests keys from 0..255 and\n",
    "use a dictionary approach to figure out the original message. "
   ]
  },
  {
   "cell_type": "markdown",
   "metadata": {},
   "source": [
    "What is the decryption algorithm/formula to be used? \n",
    "\n",
    "Since we have encoded_character[i] = character[i] + key + nonce(i) we can just revert this formula to obtain the formula which should be applied for each possible key\n",
    "\n",
    "character[i] = encoded_character[i] - key - nonce(i) "
   ]
  },
  {
   "cell_type": "code",
   "execution_count": 4,
   "metadata": {},
   "outputs": [],
   "source": [
    "import numpy as np\n",
    "text_encoded = \"K]amua!kv$huvt\"\n",
    "\n",
    "text_ascii = np.array([ord(l) for l in text_encoded])\n",
    "text_reverted = ''.join(chr(a) for a in text_ascii)\n",
    "\n",
    "nonce = np.array([x for x in range(0,len(text_encoded))])"
   ]
  },
  {
   "cell_type": "code",
   "execution_count": 5,
   "metadata": {},
   "outputs": [
    {
     "name": "stdout",
     "output_type": "stream",
     "text": [
      "Key:  0  Decription:  K\\_jq\\\u001bdn\u001b^jjg\n",
      "Key:  1  Decription:  J[^ip[\u001acm\u001a]iif\n",
      "Key:  2  Decription:  IZ]hoZ\u0019bl\u0019\\hhe\n",
      "Key:  3  Decription:  HY\\gnY\u0018ak\u0018[ggd\n",
      "Key:  4  Decription:  GX[fmX\u0017`j\u0017Zffc\n",
      "Key:  5  Decription:  FWZelW\u0016_i\u0016Yeeb\n",
      "Key:  6  Decription:  EVYdkV\u0015^h\u0015Xdda\n",
      "Key:  7  Decription:  DUXcjU\u0014]g\u0014Wcc`\n",
      "Key:  8  Decription:  CTWbiT\u0013\\f\u0013Vbb_\n",
      "Key:  9  Decription:  BSVahS\u0012[e\u0012Uaa^\n",
      "Key:  10  Decription:  ARU`gR\u0011Zd\u0011T``]\n",
      "Key:  11  Decription:  @QT_fQ\u0010Yc\u0010S__\\\n",
      "Key:  12  Decription:  ?PS^eP\u000fXb\u000fR^^[\n",
      "Key:  13  Decription:  >OR]dO\u000eWa\u000eQ]]Z\n",
      "P\\\\Y  14  Decription:  =NQ\\cN\n",
      "Key:  15  Decription:  <MP[bM\f",
      "U_\f",
      "O[[X\n",
      "Key:  16  Decription:  ;LOZaL\u000b",
      "T^\u000b",
      "NZZW\n",
      "Key:  17  Decription:  :KNY`K\n",
      "S]\n",
      "MYYV\n",
      "Key:  18  Decription:  9JMX_J\tR\\\tLXXU\n",
      "Key:  19  Decription:  8ILW^QKWWT\n",
      "Key:  20  Decription:  7HKV]H\u0007PZ\u0007JVVS\n",
      "Key:  21  Decription:  6GJU\\G\u0006OY\u0006IUUR\n",
      "Key:  22  Decription:  5FIT[F\u0005NX\u0005HTTQ\n",
      "Key:  23  Decription:  4EHSZE\u0004MW\u0004GSSP\n",
      "Key:  24  Decription:  3DGRYD\u0003LV\u0003FRRO\n",
      "Key:  25  Decription:  2CFQXC\u0002KU\u0002EQQN\n",
      "Key:  26  Decription:  1BEPWB\u0001JT\u0001DPPM\n",
      "Key:  27  Decription:  0ADOVA\u0000IS\u0000COOL\n",
      "Key:  28  Decription:  /@CNU@ÿHRÿBNNK\n",
      "Key:  29  Decription:  .?BMT?þGQþAMMJ\n",
      "Key:  30  Decription:  ->ALS>ýFPý@LLI\n",
      "Key:  31  Decription:  ,=@KR=üEOü?KKH\n",
      "Key:  32  Decription:  +<?JQ<ûDNû>JJG\n",
      "Key:  33  Decription:  *;>IP;úCMú=IIF\n",
      "Key:  34  Decription:  ):=HO:ùBLù<HHE\n",
      "Key:  35  Decription:  (9<GN9øAKø;GGD\n",
      "Key:  36  Decription:  '8;FM8÷@J÷:FFC\n",
      "Key:  37  Decription:  &7:EL7ö?Iö9EEB\n",
      "Key:  38  Decription:  %69DK6õ>Hõ8DDA\n",
      "Key:  39  Decription:  $58CJ5ô=Gô7CC@\n",
      "Key:  40  Decription:  #47BI4ó<Fó6BB?\n",
      "Key:  41  Decription:  \"36AH3ò;Eò5AA>\n",
      "Key:  42  Decription:  !25@G2ñ:Dñ4@@=\n",
      "Key:  43  Decription:   14?F1ð9Cð3??<\n",
      "Key:  44  Decription:  \u001f03>E0ï8Bï2>>;\n",
      "Key:  45  Decription:  \u001e",
      "/2=D/î7Aî1==:\n",
      "Key:  46  Decription:  \u001d",
      ".1<C.í6@í0<<9\n",
      "Key:  47  Decription:  \u001c",
      "-0;B-ì5?ì/;;8\n",
      "Key:  48  Decription:  \u001b,/:A,ë4>ë.::7\n",
      "Key:  49  Decription:  \u001a+.9@+ê3=ê-996\n",
      "Key:  50  Decription:  \u0019*-8?*é2<é,885\n",
      "Key:  51  Decription:  \u0018),7>)è1;è+774\n",
      "Key:  52  Decription:  \u0017(+6=(ç0:ç*663\n",
      "Key:  53  Decription:  \u0016'*5<'æ/9æ)552\n",
      "Key:  54  Decription:  \u0015&)4;&å.8å(441\n",
      "Key:  55  Decription:  \u0014%(3:%ä-7ä'330\n",
      "Key:  56  Decription:  \u0013$'29$ã,6ã&22/\n",
      "Key:  57  Decription:  \u0012#&18#â+5â%11.\n",
      "Key:  58  Decription:  \u0011\"%07\"á*4á$00-\n",
      "Key:  59  Decription:  \u0010!$/6!à)3à#//,\n",
      "Key:  60  Decription:  \u000f #.5 ß(2ß\"..+\n",
      "Key:  61  Decription:  \u000e\u001f\"-4\u001fÞ'1Þ!--*\n",
      "\u001e",
      "!,3\u001e",
      "Ý&0Ý ,,)ription:  \n",
      "Key:  63  Decription:  \f",
      "\u001d",
      " +2\u001d",
      "Ü%/Ü\u001f++(\n",
      "Key:  64  Decription:  \u000b",
      "\u001c",
      "\u001f*1\u001c",
      "Û$.Û\u001e",
      "**'\n",
      "Key:  65  Decription:  \n",
      "\u001b\u001e",
      ")0\u001bÚ#-Ú\u001d",
      "))&\n",
      "Key:  66  Decription:  \t\u001a\u001d",
      "(/\u001aÙ\",Ù\u001c",
      "((%\n",
      "Key:  67  Decription: \u0019\u001c",
      "'.\u0019Ø!+Ø\u001b''$\n",
      "Key:  68  Decription:  \u0007\u0018\u001b&-\u0018× *×\u001a&&#\n",
      "Key:  69  Decription:  \u0006\u0017\u001a%,\u0017Ö\u001f)Ö\u0019%%\"\n",
      "Key:  70  Decription:  \u0005\u0016\u0019$+\u0016Õ\u001e",
      "(Õ\u0018$$!\n",
      "Key:  71  Decription:  \u0004\u0015\u0018#*\u0015Ô\u001d",
      "'Ô\u0017## \n",
      "Key:  72  Decription:  \u0003\u0014\u0017\")\u0014Ó\u001c",
      "&Ó\u0016\"\"\u001f\n",
      "Key:  73  Decription:  \u0002\u0013\u0016!(\u0013Ò\u001b%Ò\u0015!!\u001e",
      "\n",
      "Key:  74  Decription:  \u0001\u0012\u0015 '\u0012Ñ\u001a$Ñ\u0014  \u001d",
      "\n",
      "Key:  75  Decription:  \u0000\u0011\u0014\u001f&\u0011Ð\u0019#Ð\u0013\u001f\u001f\u001c",
      "\n",
      "Key:  76  Decription:  ÿ\u0010\u0013\u001e",
      "%\u0010Ï\u0018\"Ï\u0012\u001e",
      "\u001e",
      "\u001b\n",
      "Key:  77  Decription:  þ\u000f\u0012\u001d",
      "$\u000fÎ\u0017!Î\u0011\u001d",
      "\u001d",
      "\u001a\n",
      "Key:  78  Decription:  ý\u000e\u0011\u001c",
      "#\u000eÍ\u0016 Í\u0010\u001c",
      "\u001c",
      "\u0019\n",
      "Ì\u0015\u001fÌ\u000f\u001b\u001b\u0018  Decription:  ü\n",
      "Key:  80  Decription:  û\f",
      "\u000f\u001a!\f",
      "Ë\u0014\u001e",
      "Ë\u000e\u001a\u001a\u0017\n",
      "\u0019\u0019\u0016:  81  Decription:  ú\u000b",
      "\u000e\u0019 \u000b",
      "Ê\u0013\u001d",
      "Ê\n",
      "Key:  82  Decription:  ù\n",
      "\u0018\u001f\n",
      "É\u0012\u001c",
      "É\f",
      "\u0018\u0018\u0015\n",
      "Key:  83  Decription:  ø\t\f",
      "\u0017\u001e",
      "\tÈ\u0011\u001bÈ\u000b",
      "\u0017\u0017\u0014\n",
      "Key:  84  Decription:  \u000b",
      "\u0016Ç\u0010\u001aÇ\n",
      "\u0016\u0016\u0013\n",
      "Key:  85  Decription:  ö\u0007\n",
      "\u0015\u001c",
      "\u0007Æ\u000f\u0019Æ\t\u0015\u0015\u0012\n",
      "Key:  86  Decription:  õ\u0006\t\u0014\u001b\u0006Å\u000e\u0018\u0014\u0014\u0011\n",
      "\u0017Ä\u0007\u0013\u0013\u001087  Decription:  ô\u0013\u001a\u0005Ä\n",
      "Key:  88  Decription:  ó\u0004\u0007\u0012\u0019\u0004Ã\f",
      "\u0016Ã\u0006\u0012\u0012\u000f\n",
      "Key:  89  Decription:  ò\u0003\u0006\u0011\u0018\u0003Â\u000b",
      "\u0015Â\u0005\u0011\u0011\u000e\n",
      "Key:  90  Decription:  ñ\u0002\u0005\u0010\u0017\u0002Á\n",
      "\u0014Á\u0004\u0010\u0010\n",
      "Key:  91  Decription:  ð\u0001\u0004\u000f\u0016\u0001À\t\u0013À\u0003\u000f\u000f\f",
      "\n",
      "Key:  92  Decription:  ï\u0000\u0003\u000e\u0015\u0000\u0012¿\u0002\u000e\u000e\u000b",
      "\n",
      "\u0014ÿ¾\u0007\u0011¾\u00013  Decription:  îÿ\u0002\n",
      "\n",
      "Key:  94  Decription:  íþ\u0001\f",
      "\u0013þ½\u0006\u0010½\u0000\f",
      "\f",
      "\t\n",
      "Key:  95  Decription:  ìý\u0000\u000b",
      "\u0012ý¼\u0005\u000f¼ÿ\u000b",
      "\n",
      "Key:  96  Decription:  ëüÿ\n",
      "\u0011ü»\u0004\u000e»þ\n",
      "\n",
      "\u0007\n",
      "ºý\t\t\u0006 97  Decription:  êûþ\t\u0010ûº\u0003\n",
      "Key:  98  Decription:  éú\u000fú¹\u0002\f",
      "\u0005\n",
      "Key:  99  Decription:  èùü\u0007\u000eù¸\u0001\u000b",
      "¸û\u0007\u0007\u0004\n",
      "ø·\u0000:  100  Decription:  çøû\u0006\n",
      "·ú\u0006\u0006\u0003\n",
      "Key:  101  Decription:  æ÷ú\u0005\f",
      "÷¶ÿ\t¶ù\u0005\u0005\u0002\n",
      "Key:  102  Decription:  åöù\u0004\u000b",
      "öµµø\u0004\u0004\u0001\n",
      "Key:  103  Decription:  äõø\u0003\n",
      "õ´ý\u0007´÷\u0003\u0003\u0000\n",
      "Key:  104  Decription:  ãô÷\u0002\tô³ü\u0006³ö\u0002\u0002ÿ\n",
      "Key:  105  Decription:  âóöó²û\u0005²õ\u0001\u0001þ\n",
      "Key:  106  Decription:  áòõ\u0000\u0007ò±ú\u0004±ô\u0000\u0000ý\n",
      "Key:  107  Decription:  àñôÿ\u0006ñ°ù\u0003°óÿÿü\n",
      "Key:  108  Decription:  ßðóþ\u0005ð¯ø\u0002¯òþþû\n",
      "Key:  109  Decription:  Þïòý\u0004ï®÷\u0001®ñýýú\n",
      "Key:  110  Decription:  Ýîñü\u0003î­ö\u0000­ðüüù\n",
      "Key:  111  Decription:  Üíðû\u0002í¬õÿ¬ïûûø\n",
      "Key:  112  Decription:  Ûìïú\u0001ì«ôþ«îúú÷\n",
      "Key:  113  Decription:  Úëîù\u0000ëªóýªíùùö\n",
      "Key:  114  Decription:  Ùêíøÿê©òü©ìøøõ\n",
      "Key:  115  Decription:  Øéì÷þé¨ñû¨ë÷÷ô\n",
      "Key:  116  Decription:  ×èëöýè§ðú§êööó\n",
      "Key:  117  Decription:  Öçêõüç¦ïù¦éõõò\n",
      "Key:  118  Decription:  Õæéôûæ¥îø¥èôôñ\n",
      "Key:  119  Decription:  Ôåèóúå¤í÷¤çóóð\n",
      "Key:  120  Decription:  Óäçòùä£ìö£æòòï\n",
      "Key:  121  Decription:  Òãæñøã¢ëõ¢åññî\n",
      "Key:  122  Decription:  Ñâåð÷â¡êô¡äððí\n",
      "Key:  123  Decription:  Ðáäïöá éó ãïïì\n",
      "Key:  124  Decription:  Ïàãîõàèòâîîë\n",
      "Key:  125  Decription:  Îßâíôßçñáííê\n",
      "Key:  126  Decription:  ÍÞáìóÞæðàììé\n",
      "Key:  127  Decription:  ÌÝàëòÝåïßëëè\n",
      "Key:  128  Decription:  ËÜßêñÜäîÞêêç\n",
      "Key:  129  Decription:  ÊÛÞéðÛãíÝééæ\n",
      "Key:  130  Decription:  ÉÚÝèïÚâìÜèèå\n",
      "Key:  131  Decription:  ÈÙÜçîÙáëÛççä\n",
      "Key:  132  Decription:  ÇØÛæíØàêÚææã\n",
      "Key:  133  Decription:  Æ×Úåì×ßéÙååâ\n",
      "Key:  134  Decription:  ÅÖÙäëÖÞèØääá\n",
      "Key:  135  Decription:  ÄÕØãêÕÝç×ããà\n",
      "Key:  136  Decription:  ÃÔ×âéÔÜæÖââß\n",
      "Key:  137  Decription:  ÂÓÖáèÓÛåÕááÞ\n",
      "Key:  138  Decription:  ÁÒÕàçÒÚäÔààÝ\n",
      "Key:  139  Decription:  ÀÑÔßæÑÙãÓßßÜ\n",
      "Key:  140  Decription:  ¿ÐÓÞåÐØâÒÞÞÛ\n",
      "Key:  141  Decription:  ¾ÏÒÝäÏ×áÑÝÝÚ\n",
      "Key:  142  Decription:  ½ÎÑÜãÎÖàÐÜÜÙ\n",
      "Key:  143  Decription:  ¼ÍÐÛâÍÕßÏÛÛØ\n",
      "Key:  144  Decription:  »ÌÏÚáÌÔÞÎÚÚ×\n",
      "Key:  145  Decription:  ºËÎÙàËÓÝÍÙÙÖ\n",
      "Key:  146  Decription:  ¹ÊÍØßÊÒÜÌØØÕ\n",
      "Key:  147  Decription:  ¸ÉÌ×ÞÉÑÛË××Ô\n",
      "Key:  148  Decription:  ·ÈËÖÝÈÐÚÊÖÖÓ\n",
      "Key:  149  Decription:  ¶ÇÊÕÜÇÏÙÉÕÕÒ\n",
      "Key:  150  Decription:  µÆÉÔÛÆ",
      "ÎØ",
      "ÈÔÔÑ\n",
      "Key:  151  Decription:  ´ÅÈÓÚÅÍ×ÇÓÓÐ\n",
      "Key:  152  Decription:  ³ÄÇÒÙÄÌÖÆÒÒÏ\n",
      "Key:  153  Decription:  ²ÃÆÑØÃËÕÅÑÑÎ\n",
      "Key:  154  Decription:  ±ÂÅÐ×ÂÊÔÄÐÐÍ\n",
      "Key:  155  Decription:  °ÁÄÏÖÁÉÓÃÏÏÌ\n",
      "Key:  156  Decription:  ¯ÀÃÎÕÀÈÒÂÎÎË\n",
      "Key:  157  Decription:  ®¿ÂÍÔ¿~ÇÑ~ÁÍÍÊ\n",
      "Key:  158  Decription:  ­¾ÁÌÓ¾}ÆÐ}ÀÌÌÉ\n",
      "Key:  159  Decription:  ¬½ÀËÒ½|ÅÏ|¿ËËÈ\n",
      "Key:  160  Decription:  «¼¿ÊÑ¼{ÄÎ{¾ÊÊÇ\n",
      "Key:  161  Decription:  ª»¾ÉÐ»zÃÍz½ÉÉÆ\n",
      "Key:  162  Decription:  ©º½ÈÏºyÂÌy¼ÈÈÅ\n",
      "Key:  163  Decription:  ¨¹¼ÇÎ¹xÁËx»ÇÇÄ\n",
      "Key:  164  Decription:  §¸»ÆÍ¸wÀÊwºÆÆÃ\n",
      "Key:  165  Decription:  ¦·ºÅÌ·v¿Év¹ÅÅÂ\n",
      "Key:  166  Decription:  ¥¶¹ÄË¶u¾Èu¸ÄÄÁ\n",
      "Key:  167  Decription:  ¤µ¸ÃÊµt½Çt·ÃÃÀ\n",
      "Key:  168  Decription:  £´·ÂÉ´s¼Æs¶ÂÂ¿\n",
      "Key:  169  Decription:  ¢³¶ÁÈ³r»ÅrµÁÁ¾\n",
      "Key:  170  Decription:  ¡²µÀÇ²qºÄq´ÀÀ½\n",
      "Key:  171  Decription:   ±´¿Æ±p¹Ãp³¿¿¼\n",
      "Key:  172  Decription:  °³¾Å°o¸Âo²¾¾»\n",
      "Key:  173  Decription:  ¯²½Ä¯n·Án±½½º\n",
      "Key:  174  Decription:  ®±¼Ã®m¶Àm°¼¼¹\n",
      "Key:  175  Decription:  ­°»Â­lµ¿l¯»»¸\n",
      "Key:  176  Decription:  ¬¯ºÁ¬k´¾k®ºº·\n",
      "Key:  177  Decription:  «®¹À«j³½j­¹¹¶\n",
      "Key:  178  Decription:  ª­¸¿ªi²¼i¬¸¸µ\n",
      "Key:  179  Decription:  ©¬·¾©h±»h«··´\n",
      "Key:  180  Decription:  ¨«¶½¨g°ºgª¶¶³\n",
      "Key:  181  Decription:  §ªµ¼§f¯¹f©µµ²\n",
      "Key:  182  Decription:  ¦©´»¦e®¸e¨´´±\n",
      "Key:  183  Decription:  ¥¨³º¥d­·d§³³°\n",
      "Key:  184  Decription:  ¤§²¹¤c¬¶c¦²²¯\n",
      "Key:  185  Decription:  £¦±¸£b«µb¥±±®\n",
      "Key:  186  Decription:  ¢¥°·¢aª´a¤°°­\n",
      "Key:  187  Decription:  ¡¤¯¶¡`©³`£¯¯¬\n",
      "Key:  188  Decription:   £®µ _¨²_¢®®«\n",
      "Key:  189  Decription:  ¢­´^§±^¡­­ª\n",
      "Key:  190  Decription:  ¡¬³]¦°] ¬¬©\n",
      "Key:  191  Decription:   «²\\¥¯\\««¨\n",
      "Key:  192  Decription:  ª±[¤®[ªª§\n",
      "Key:  193  Decription:  ©°Z£­Z©©¦\n",
      "Key:  194  Decription:  ¨¯Y¢¬Y¨¨¥\n",
      "Key:  195  Decription:  §®X¡«X§§¤\n",
      "Key:  196  Decription:  ¦­W ªW¦¦£\n",
      "Key:  197  Decription:  ¥¬V©V¥¥¢\n",
      "Key:  198  Decription:  ",
      "¤«U¨U¤¤¡\n",
      "Key:  199  Decription:  £ªT§T££ \n",
      "Key:  200  Decription:  ¢©S¦S¢¢\n",
      "Key:  201  Decription:  ¡¨R¥R¡¡\n",
      "Key:  202  Decription:   §Q¤Q  \n",
      "Key:  203  Decription:  ¦P£P\n",
      "Key:  204  Decription:  ¥O¢O\n",
      "Key:  205  Decription:  ~¤N¡N\n",
      "Key:  206  Decription:  }£M M\n",
      "Key:  207  Decription:  |¢LL\n",
      "Key:  208  Decription:  {¡KK\n",
      "Key:  209  Decription:  z JJ\n",
      "Key:  210  Decription:  yII\n",
      "Key:  211  Decription:  xHH\n",
      "Key:  212  Decription:  wGG\n",
      "Key:  213  Decription:  vFF\n",
      "Key:  214  Decription:  uEE\n",
      "Key:  215  Decription:  t",
      "",
      "DD\n",
      "Key:  216  Decription:  sCC\n",
      "Key:  217  Decription:  rBB",
      "\n",
      "Key:  218  Decription:  q",
      "AA\n",
      "Key:  219  Decription:  p@@\n",
      "Key:  220  Decription:  o??\n",
      "Key:  221  Decription:  n>>\n",
      "Key:  222  Decription:  m~~==\n",
      "Key:  223  Decription:  l}}<",
      "<\n",
      "Key:  224  Decription:  k||;;~\n",
      "Key:  225  Decription:  j{~{::}\n",
      "Key:  226  Decription:  iz}z99|",
      "\n",
      "Key:  227  Decription:  hy|y88{\n",
      "Key:  228  Decription:  gx{x77z\n",
      "Key:  229  Decription:  fwz",
      "w66y",
      "",
      "\n",
      "Key:  230  Decription:  evyv5~5x\n",
      "Key:  231  Decription:  duxu4}4w\n",
      "Key:  232  Decription:  ctwt3|3v\n",
      "Key:  233  Decription:  bsvs2{",
      "2u~\n",
      "Key:  234  Decription:  arur1z1t}\n",
      "Key:  235  Decription:  `qtq0y0s|\n",
      "Key:  236  Decription:  _ps~",
      "p/x/r~~{\n",
      "Key:  237  Decription:  ^or}o.w.q}}z\n",
      "Key:  238  Decription:  ]nq|n-v-p||y\n",
      "Key:  239  Decription:  \\mp{m,u,o{{x\n",
      "Key:  240  Decription:  [lozl+t~+nzzw\n",
      "Key:  241  Decription:  Zknyk*s}*myyv\n",
      "Key:  242  Decription:  Yjmxj)r|)lxxu\n",
      "Key:  243  Decription:  Xilw~i(q{(kwwt\n",
      "Key:  244  Decription:  Whkv}h'pz'jvvs\n",
      "Key:  245  Decription:  Vgju|g&oy&iuur\n",
      "Key:  246  Decription:  Ufit{f%nx%httq\n",
      "Key:  247  Decription:  Tehsze$mw$gssp\n",
      "Key:  248  Decription:  Sdgryd#lv#frro\n",
      "Key:  249  Decription:  Rcfqxc\"ku\"eqqn\n",
      "Key:  250  Decription:  Qbepwb!jt!dppm\n",
      "Key:  251  Decription:  Padova is cool\n",
      "Key:  252  Decription:  O`cnu`\u001fhr\u001fbnnk\n",
      "Key:  253  Decription:  N_bmt_\u001e",
      "gq\u001e",
      "ammj\n",
      "Key:  254  Decription:  M^als^\u001d",
      "fp\u001d",
      "`lli\n",
      "Key:  255  Decription:  L]`kr]\u001c",
      "eo\u001c",
      "_kkh\n"
     ]
    }
   ],
   "source": [
    "for key in range(0,256): #[0,256)\n",
    "    #subtract key and nonce\n",
    "    text_decoded=text_ascii-nonce-key\n",
    "    #check for value out of range\n",
    "    text_decoded[np.where(text_decoded<0)] = text_decoded[np.where(text_decoded<0)] + 256   \n",
    "    text_reverted = ''.join(chr(a) for a in text_decoded)\n",
    "    print (\"Key: \", key, \" Decription: \",text_reverted)"
   ]
  },
  {
   "cell_type": "markdown",
   "metadata": {},
   "source": [
    "The used key is **251** and the original message text is **Padova is cool**"
   ]
  },
  {
   "cell_type": "markdown",
   "metadata": {},
   "source": [
    "## Ex 3"
   ]
  },
  {
   "cell_type": "code",
   "execution_count": 23,
   "metadata": {},
   "outputs": [],
   "source": [
    "import random\n",
    "import matplotlib.pyplot as plt"
   ]
  },
  {
   "cell_type": "code",
   "execution_count": 31,
   "metadata": {},
   "outputs": [
    {
     "name": "stdout",
     "output_type": "stream",
     "text": [
      "[ 780  790  980  840  740  800  920  870  790 1000]\n"
     ]
    },
    {
     "data": {
      "text/plain": [
       "<BarContainer object of 10 artists>"
      ]
     },
     "execution_count": 31,
     "metadata": {},
     "output_type": "execute_result"
    },
    {
     "data": {
      "image/png": "[encoded data removed]",
      "text/plain": [
       "<Figure size 432x288 with 1 Axes>"
      ]
     },
     "metadata": {
      "needs_background": "light"
     },
     "output_type": "display_data"
    }
   ],
   "source": [
    "disks= np.array([0]*10)\n",
    "while(np.max(disks)<1000):\n",
    "    disk= random.randint(0, 9)\n",
    "    disks[disk]+=10\n",
    "print(disks)\n",
    "\n",
    "plt.bar(np.linspace(0,9, 10),disks)"
   ]
  },
  {
   "cell_type": "code",
   "execution_count": 67,
   "metadata": {},
   "outputs": [],
   "source": [
    "def FreeSpace(filesize = 10, graph=True, verbose=True, retu=False):\n",
    "    disks= np.array([0.]*10)\n",
    "    while(np.max(disks)<1000):\n",
    "        disk= random.randint(0, 9)\n",
    "        disks[disk]+=filesize\n",
    "    placed = np.sum(disks)/filesize\n",
    "    free = (10000-np.sum(disks))/100 #10000*100\n",
    "    if graph:\n",
    "        plt.bar(np.linspace(0,9, 10),disks)\n",
    "    if verbose:\n",
    "        print(\"Disks occupation:\", disks)\n",
    "        print(\"Placed files:    \", placed)\n",
    "        print(\"Free space left: \", free, \"%\")  \n",
    "    if(retu):\n",
    "        return placed, free\n",
    "\n"
   ]
  },
  {
   "cell_type": "code",
   "execution_count": 68,
   "metadata": {},
   "outputs": [
    {
     "name": "stdout",
     "output_type": "stream",
     "text": [
      "Disks occupation: [ 740. 1000.  820.  850.  810.  760.  910.  920.  750.  590.]\n",
      "Placed files:     815.0\n",
      "Free space left:  18.5 %\n"
     ]
    },
    {
     "data": {
      "image/png": "[encoded data removed]",
      "text/plain": [
       "<Figure size 432x288 with 1 Axes>"
      ]
     },
     "metadata": {
      "needs_background": "light"
     },
     "output_type": "display_data"
    }
   ],
   "source": [
    "FreeSpace(10)\n"
   ]
  },
  {
   "cell_type": "code",
   "execution_count": 69,
   "metadata": {},
   "outputs": [
    {
     "name": "stdout",
     "output_type": "stream",
     "text": [
      "Disks occupation: [ 967.  975.  942.  950.  985. 1000.  930.  965.  945.  928.]\n",
      "Placed files:     9587.0\n",
      "Free space left:  4.13 %\n"
     ]
    },
    {
     "data": {
      "image/png": "[encoded data removed]",
      "text/plain": [
       "<Figure size 432x288 with 1 Axes>"
      ]
     },
     "metadata": {
      "needs_background": "light"
     },
     "output_type": "display_data"
    }
   ],
   "source": [
    "FreeSpace(1)"
   ]
  },
  {
   "cell_type": "code",
   "execution_count": 84,
   "metadata": {},
   "outputs": [
    {
     "data": {
      "text/plain": [
       "<matplotlib.legend.Legend at 0x7f71ca8c8d68>"
      ]
     },
     "execution_count": 84,
     "metadata": {},
     "output_type": "execute_result"
    },
    {
     "data": {
      "image/png": "[encoded data removed]",
      "text/plain": [
       "<Figure size 432x288 with 1 Axes>"
      ]
     },
     "metadata": {
      "needs_background": "light"
     },
     "output_type": "display_data"
    }
   ],
   "source": [
    "sizes= np.linspace(0.2, 10, 50)\n",
    "y=[]\n",
    "\n",
    "for size in sizes:\n",
    "    p,f= FreeSpace(size, False, False, True)\n",
    "    y.append(f)\n",
    "    \n",
    "plt.plot(sizes, y, label='Free Space Left')\n",
    "plt.xlabel(\"File size\")\n",
    "plt.title(\"Free space left dependeny on the File Size\")\n",
    "plt.legend()\n",
    "    \n"
   ]
  },
  {
   "cell_type": "code",
   "execution_count": 92,
   "metadata": {},
   "outputs": [
    {
     "data": {
      "text/plain": [
       "<matplotlib.legend.Legend at 0x7f71cac10b70>"
      ]
     },
     "execution_count": 92,
     "metadata": {},
     "output_type": "execute_result"
    },
    {
     "data": {
      "image/png": "[encoded data removed]",
      "text/plain": [
       "<Figure size 432x288 with 1 Axes>"
      ]
     },
     "metadata": {
      "needs_background": "light"
     },
     "output_type": "display_data"
    }
   ],
   "source": [
    "load= 5\n",
    "sizes= np.linspace(0.2, 10, 10*load)\n",
    "y=[]\n",
    "\n",
    "for size in sizes:\n",
    "    vals=[]\n",
    "    for i in range(0,load):\n",
    "        p,f= FreeSpace(size, False, False, True)\n",
    "        vals.append(f)\n",
    "    y.append(np.mean(np.array(vals)))\n",
    " \n",
    "\n",
    "plt.plot(sizes, y, label='Free Space Left')\n",
    "plt.xlabel(\"File size\")\n",
    "plt.title(\"Free space left dependeny on the File Size\")\n",
    "plt.legend()\n",
    "    "
   ]
  },
  {
   "cell_type": "code",
   "execution_count": null,
   "metadata": {},
   "outputs": [],
   "source": []
  }
 ],
 "metadata": {
  "kernelspec": {
   "display_name": "Python 3",
   "language": "python",
   "name": "python3"
  },
  "language_info": {
   "codemirror_mode": {
    "name": "ipython",
    "version": 3
   },
   "file_extension": ".py",
   "mimetype": "text/x-python",
   "name": "python",
   "nbconvert_exporter": "python",
   "pygments_lexer": "ipython3",
   "version": "3.7.3"
  }
 },
 "nbformat": 4,
 "nbformat_minor": 4
}
