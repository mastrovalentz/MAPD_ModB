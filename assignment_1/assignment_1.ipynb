{
 "cells": [
  {
   "cell_type": "markdown",
   "metadata": {},
   "source": [
    "<hr style=\"border-top-width:4px; border-top-color: #2188bf;\">\n",
    "<img align=\"right\" src=\"images/Logo_Università_Padova.png\" alt=\"Drawing\" style=\"width: 300px\"/>\n",
    "<img align=\"right\" src=\"images/Logo_Physics_of_Data.jpg\" alt=\"Drawing\" style=\"width: 135px\"/>\n",
    "\n",
    "# MAPD (mod.B) Final Project\n",
    "# Analysis of Covid-19 papers\n",
    "\n",
    "### Authors\n",
    "* [Ardino Rocco](https://github.com/RoccoA97) (University of Padua)\n",
    "* [Pagano Alice](https://github.com/AlicePagano) (University of Padua)\n",
    "* [Valente Alessandro](https://github.com/mastrovalentz) (University of Padua)\n",
    "\n",
    "<hr style=\"border-top-width:4px; border-top-color: #2188bf;\">"
   ]
  },
  {
   "cell_type": "markdown",
   "metadata": {},
   "source": [
    "<br>\n",
    "<br>\n",
    "<br>\n",
    "<br>\n",
    "<br>"
   ]
  },
  {
   "cell_type": "markdown",
   "metadata": {},
   "source": [
    "<hr style=\"border-top-width:4px; border-top-color: #2188bf;\">\n",
    "\n",
    "# Index <a class=\"anchor\" id=\"MAPD_B_FP.i\"></a>\n",
    "\n",
    "* 1. [**Introduction**](#MAPD_B_FP.1.)\n",
    "* 2. [**Word counter distributed algorithm**](#MAPD_B_FP.2.)\n",
    "\n",
    "<hr style=\"border-top-width:4px; border-top-color: #2188bf;\">"
   ]
  },
  {
   "cell_type": "markdown",
   "metadata": {},
   "source": [
    "<br>\n",
    "<br>\n",
    "<br>\n",
    "<br>\n",
    "<br>"
   ]
  },
  {
   "cell_type": "markdown",
   "metadata": {},
   "source": [
    "<hr style=\"border-top-width:4px; border-top-color: #2188bf;\">\n",
    "\n",
    "## 1. - Introduction <a class=\"anchor\" id=\"MAPD_B_FP.1.\"></a>\n",
    "* [Index](#MAPD_B_FP.i)"
   ]
  },
  {
   "cell_type": "code",
   "execution_count": null,
   "metadata": {},
   "outputs": [],
   "source": [
    "import dask.bag as db\n",
    "b = db.from_sequence([1, 2, 3, 4, 5, 6, 7, 8, 9, 10], npartitions=2)\n",
    "b.take(3)\n",
    "\n",
    "\n",
    "import os\n",
    "b = db.read_text(os.path.join('data','accounts_json','accounts.*.json.gz'))\n",
    "b.take(1)"
   ]
  }
 ],
 "metadata": {
  "kernelspec": {
   "display_name": "Python 3",
   "language": "python",
   "name": "python3"
  },
  "language_info": {
   "codemirror_mode": {
    "name": "ipython",
    "version": 3
   },
   "file_extension": ".py",
   "mimetype": "text/x-python",
   "name": "python",
   "nbconvert_exporter": "python",
   "pygments_lexer": "ipython3",
   "version": "3.7.6"
  }
 },
 "nbformat": 4,
 "nbformat_minor": 4
}
